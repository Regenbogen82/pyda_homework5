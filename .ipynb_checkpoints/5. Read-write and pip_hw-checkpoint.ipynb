{
 "cells": [
  {
   "cell_type": "markdown",
   "metadata": {},
   "source": [
    "# Домашнее задание\n",
    "1. Переведите содержимое файла purchase_log.txt в словарь purchases вида:\n",
    "```python\n",
    "{'1840e0b9d4': 'Продукты', ...}\n",
    "```\n",
    "\n",
    "2. Для каждого user_id в файле visit_log.csv добавьте третий столбец с категорией покупки (если покупка была).\n",
    "\n",
    "3. Запишите в файл funnel.csv визиты из файла visit_log.csv, в которых были покупки с указанием категории.\n",
    "\n",
    "Учтите условия на данные:\n",
    "- содержимое purchase_log.txt помещается в оперативную память компьютера\n",
    "- содержимое visit_log.csv - нет; используйте только построчную обработку этого файла"
   ]
  },
  {
   "cell_type": "code",
   "execution_count": 1,
   "metadata": {},
   "outputs": [],
   "source": [
    "import json"
   ]
  },
  {
   "cell_type": "code",
   "execution_count": 135,
   "metadata": {},
   "outputs": [
    {
     "name": "stdout",
     "output_type": "stream",
     "text": [
      "482\n"
     ]
    }
   ],
   "source": [
    "interm_list = []\n",
    "with open('purchase_log.txt', 'r', encoding='UTF-8') as f:\n",
    "    f.readline()\n",
    "    for i in f:\n",
    "        line_read = i \n",
    "        sa_dict = json.loads(line_read.strip('\\n'))\n",
    "        interm_list.append(sa_dict) \n",
    "    f.close()\n",
    "dict_2 = {}\n",
    "b = 0\n",
    "for lines in interm_list:\n",
    "    if list(lines.values())[0] not in dict_2.keys():\n",
    "        dict_2[list(lines.values())[0]] = [list(lines.values())[1]]\n",
    "    else:\n",
    "        b += 1\n",
    "print(b)"
   ]
  },
  {
   "cell_type": "code",
   "execution_count": 136,
   "metadata": {},
   "outputs": [
    {
     "name": "stdout",
     "output_type": "stream",
     "text": [
      "13798\n",
      "199999\n"
     ]
    }
   ],
   "source": [
    "list_of_visits = []\n",
    "funnel_list = []\n",
    "a = 0\n",
    "j = 0\n",
    "with open('visit_log.csv', 'r', encoding='UTF-8') as v:\n",
    "    v.readline()\n",
    "    for l in v:\n",
    "        l2 = l.strip('\\n').split(',')\n",
    "        if l2[0] in dict_2.keys():\n",
    "            l2.append(dict_2[l2[0]])\n",
    "            funnel_list.append(l2)\n",
    "            a += 1\n",
    "        list_of_visits.append(l2)\n",
    "        j += 1\n",
    "        v.close\n",
    "print(a)\n",
    "print(j)"
   ]
  },
  {
   "cell_type": "code",
   "execution_count": 137,
   "metadata": {},
   "outputs": [
    {
     "name": "stdout",
     "output_type": "stream",
     "text": [
      "13798\n"
     ]
    }
   ],
   "source": [
    "h = 0\n",
    "with open('funnel.csv', 'w') as fl:\n",
    "    for i in funnel_list:\n",
    "        s = str(i[0]) + ',' + str(i[1]) + ',' + str(i[2]) +'\\n'\n",
    "        fl.write(s)\n",
    "        h += 1\n",
    "    fl.close\n",
    "print(h)"
   ]
  },
  {
   "cell_type": "code",
   "execution_count": null,
   "metadata": {},
   "outputs": [],
   "source": []
  },
  {
   "cell_type": "code",
   "execution_count": null,
   "metadata": {},
   "outputs": [],
   "source": []
  }
 ],
 "metadata": {
  "kernelspec": {
   "display_name": "Python 3",
   "language": "python",
   "name": "python3"
  },
  "language_info": {
   "codemirror_mode": {
    "name": "ipython",
    "version": 3
   },
   "file_extension": ".py",
   "mimetype": "text/x-python",
   "name": "python",
   "nbconvert_exporter": "python",
   "pygments_lexer": "ipython3",
   "version": "3.7.4"
  }
 },
 "nbformat": 4,
 "nbformat_minor": 2
}
